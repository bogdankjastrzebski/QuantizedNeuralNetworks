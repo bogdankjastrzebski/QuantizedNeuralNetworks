{
 "cells": [
  {
   "cell_type": "code",
   "execution_count": 272,
   "id": "4587e50b-2da2-4fe5-927c-9293f97f0ea7",
   "metadata": {},
   "outputs": [],
   "source": [
    "using LinearAlgebra\n",
    "using Zygote\n",
    "using Zygote: @ignore\n",
    "i32 = Int32\n",
    "i64 = Int64\n",
    "f32 = Float32\n",
    "f64 = Float64;"
   ]
  },
  {
   "cell_type": "code",
   "execution_count": 381,
   "id": "cf39435e-0d1a-40e1-b6b6-1a46186f4eab",
   "metadata": {},
   "outputs": [
    {
     "data": {
      "text/plain": [
       "clip (generic function with 1 method)"
      ]
     },
     "execution_count": 381,
     "metadata": {},
     "output_type": "execute_result"
    }
   ],
   "source": [
    "function relu(x::T)::T where T\n",
    "    x < zero(x) ? zero(x) : x\n",
    "end\n",
    "function clip(x::T)::T where T\n",
    "    x < zero(x) ? zero(x) : x > one(x) ? one(x) : x\n",
    "end"
   ]
  },
  {
   "cell_type": "code",
   "execution_count": 662,
   "id": "cf677555-8f86-49fe-b8b0-72413cbf61cd",
   "metadata": {},
   "outputs": [],
   "source": [
    "struct Quadratic <: Function\n",
    "    W::Matrix{Float32}\n",
    "    b::Vector{Float32}\n",
    "    function Quadratic(n::Integer)\n",
    "        W = randn(Float32, n, n)\n",
    "        W = W'W\n",
    "        b = randn(Float32, n)\n",
    "        return new(W, b)\n",
    "    end\n",
    "end\n",
    "(q::Quadratic)(x) = sum((q.W'x).*x, dims=1) .+ q.b'x"
   ]
  },
  {
   "cell_type": "code",
   "execution_count": 663,
   "id": "d1863891-cfab-4256-b10e-eed41397cf58",
   "metadata": {},
   "outputs": [
    {
     "data": {
      "text/plain": [
       "rand_cube (generic function with 1 method)"
      ]
     },
     "execution_count": 663,
     "metadata": {},
     "output_type": "execute_result"
    }
   ],
   "source": [
    "function rand_cube(p)\n",
    "    return 2.f0 * (rand(f32, size(p)) .< p) .- 1.f0\n",
    "end"
   ]
  },
  {
   "cell_type": "code",
   "execution_count": 664,
   "id": "c1898fba-573a-4291-9e55-b35a240e2bea",
   "metadata": {},
   "outputs": [
    {
     "data": {
      "text/plain": [
       "E (generic function with 3 methods)"
      ]
     },
     "execution_count": 664,
     "metadata": {},
     "output_type": "execute_result"
    }
   ],
   "source": [
    "function E(fun, gen, p, n=100)\n",
    "    return sum(fun(gen(p)) for _ in 1:n)/n\n",
    "end"
   ]
  },
  {
   "cell_type": "code",
   "execution_count": 665,
   "id": "25099494-f47b-4990-a9b0-1ea85b771d30",
   "metadata": {},
   "outputs": [
    {
     "data": {
      "text/plain": [
       "cube (generic function with 1 method)"
      ]
     },
     "execution_count": 665,
     "metadata": {},
     "output_type": "execute_result"
    }
   ],
   "source": [
    "function cube(n)\n",
    "    if n == 1\n",
    "        return f32[-1, 1]'\n",
    "    end\n",
    "    prev = cube(n - 1)'\n",
    "    return [(1:2^n .> 2^(n-1)) [prev ; prev]]'\n",
    "end        "
   ]
  },
  {
   "cell_type": "code",
   "execution_count": 666,
   "id": "82f441dd-4a46-4251-8d94-0b804e63fde3",
   "metadata": {},
   "outputs": [
    {
     "data": {
      "text/plain": [
       "(::Quadratic) (generic function with 1 method)"
      ]
     },
     "execution_count": 666,
     "metadata": {},
     "output_type": "execute_result"
    }
   ],
   "source": [
    "k = 3\n",
    "n = 16\n",
    "c = 2cube(k) .- 1.f0\n",
    "q = Quadratic(k)"
   ]
  },
  {
   "cell_type": "code",
   "execution_count": 710,
   "id": "447252c3-753c-424e-a3a6-b0fd04a1b01c",
   "metadata": {},
   "outputs": [
    {
     "name": "stdout",
     "output_type": "stream",
     "text": [
      "L = 51.93832700519082\n",
      "L = 23.91541589374009\n",
      "L = 6.650803089141846\n",
      "L = 6.650803089141846\n",
      "L = 6.650803089141846\n",
      "L = 6.650803089141846\n",
      "L = 6.650803089141846\n",
      "L = 6.650803089141846\n",
      "L = 6.650803089141846\n",
      "L = 6.650803089141846\n"
     ]
    }
   ],
   "source": [
    "p = rand(k)\n",
    "for i in 1:10\n",
    "    ifprint = i % 1 == 0\n",
    "    g = gradient(Params([p])) do\n",
    "        Y = q(c)\n",
    "        w = prod(p .* c .+ relu.(-c), dims=1)\n",
    "        L = sum(Y .* w)\n",
    "        @ignore ifprint && println(\"L = $L\")\n",
    "        L\n",
    "    end\n",
    "    p .-= 0.1g[p]\n",
    "    p .= clip.(p)\n",
    "end"
   ]
  },
  {
   "cell_type": "code",
   "execution_count": 711,
   "id": "3628db27-5ccc-4ef7-a2ef-11864078f526",
   "metadata": {},
   "outputs": [
    {
     "data": {
      "text/plain": [
       "3-element Vector{Float64}:\n",
       " 0.0\n",
       " 1.0\n",
       " 1.0"
      ]
     },
     "execution_count": 711,
     "metadata": {},
     "output_type": "execute_result"
    }
   ],
   "source": [
    "p"
   ]
  },
  {
   "cell_type": "code",
   "execution_count": 716,
   "id": "4f089f06-9b90-4cb3-80a5-1e7d9f3ac937",
   "metadata": {
    "tags": []
   },
   "outputs": [
    {
     "name": "stdout",
     "output_type": "stream",
     "text": [
      "Float32[0.5530135, 0.40168446, 0.82255393]\n",
      "-1.856694\n",
      "-1.8507309\n",
      "-1.8644279\n",
      "-1.5559881\n",
      "-1.2668172\n",
      "-1.1053274\n",
      "-1.002292\n",
      "-1.024529\n",
      "-0.3933375\n",
      "-0.51843\n",
      "-0.2487632\n",
      "-0.14788218\n",
      "-0.055074334\n",
      "-0.2699407\n",
      "-0.025179343\n",
      "-0.3438483\n",
      "-0.17715536\n",
      "-0.16356897\n",
      "-0.1634504\n",
      "-0.40909463\n",
      "-0.031240163\n",
      "-0.42673087\n",
      "-0.049387664\n",
      "-0.16190648\n",
      "-0.1611573\n",
      "-0.24712032\n",
      "-0.17365792\n",
      "-0.14876162\n",
      "-0.19256029\n",
      "-0.2876674\n",
      "-0.74783987\n",
      "-0.16610968\n",
      "-0.30942237\n",
      "-0.14927632\n",
      "-0.16271636\n",
      "-0.1420409\n",
      "-0.24159147\n",
      "-0.18029654\n",
      "-0.021817094\n",
      "-0.15708894\n",
      "-0.1587493\n",
      "-0.05095473\n",
      "-0.05587241\n",
      "-0.29131114\n",
      "-0.020313619\n",
      "-0.39386374\n",
      "-0.032477066\n",
      "-0.046017602\n",
      "-0.17212874\n",
      "-0.41870087\n",
      "-0.18389021\n",
      "-0.38352686\n",
      "-0.30969435\n",
      "-0.30519837\n",
      "-0.26325285\n",
      "-0.15434173\n",
      "-0.038049694\n",
      "-0.15404323\n",
      "-0.5913596\n",
      "-0.16329776\n",
      "-0.3990767\n",
      "-0.06315574\n",
      "-0.17482252\n",
      "-0.19166647\n",
      "-0.37548456\n",
      "-0.41499785\n",
      "-0.04076405\n",
      "-0.5234873\n",
      "-0.15539974\n",
      "-0.022643168\n",
      "-0.15683226\n",
      "-0.27279213\n",
      "-0.17998597\n",
      "-0.06739544\n",
      "-0.15171058\n",
      "-0.150683\n",
      "-0.034210257\n",
      "-0.3833864\n",
      "-0.17455135\n",
      "-0.29999408\n",
      "-0.1620003\n",
      "-0.08292358\n",
      "-0.30550843\n",
      "-0.27805287\n",
      "-0.15456332\n",
      "-0.16286708\n",
      "-0.14361127\n",
      "-0.038880512\n",
      "-0.031723376\n",
      "-0.28423727\n",
      "-0.20090124\n",
      "-0.16715577\n",
      "-0.14876683\n",
      "-0.15971567\n",
      "-0.37136263\n",
      "-0.37955508\n",
      "-0.28095746\n",
      "-0.2574025\n",
      "-0.29390523\n",
      "-0.37027678\n"
     ]
    }
   ],
   "source": [
    "p = rand(f32, 3) # f32[0.5, 0.5, 0.5]\n",
    "println(p)\n",
    "m = zeros(f32, k)\n",
    "α = 0.01f0\n",
    "n = 32\n",
    "for i in 1:1000\n",
    "    ifprint = i % 10 == 0\n",
    "    ∇ = 0\n",
    "    Ls = []\n",
    "    for _ in 1:n\n",
    "        r = rand_cube(p)\n",
    "        g = gradient(Params([p])) do\n",
    "            L = sum(log.(ifelse.(r .== 1, p, 1.f0 .- p) .+ 0.001f0))\n",
    "            @ignore ifprint && push!(Ls, L)\n",
    "            L\n",
    "        end\n",
    "        ∇ = ∇ .+ g[p] * sum(q(r))\n",
    "    end\n",
    "    ifprint && println(sum(Ls)/n)\n",
    "    ∇ /= n\n",
    "    # m = (1.f0 - α) * m + α * g\n",
    "    p .-= 0.001∇\n",
    "    p .= clip.(p)\n",
    "    # @show p\n",
    "end"
   ]
  },
  {
   "cell_type": "code",
   "execution_count": 717,
   "id": "c1f8c2f5-54af-411c-b0c9-5503520614a2",
   "metadata": {},
   "outputs": [
    {
     "data": {
      "text/plain": [
       "3-element Vector{Float32}:\n",
       " 0.019090345\n",
       " 0.9949694\n",
       " 0.9855929"
      ]
     },
     "execution_count": 717,
     "metadata": {},
     "output_type": "execute_result"
    }
   ],
   "source": [
    "p"
   ]
  },
  {
   "cell_type": "code",
   "execution_count": 718,
   "id": "b8c97fc7-0e75-422e-b833-c5c35ca9b6d7",
   "metadata": {},
   "outputs": [
    {
     "data": {
      "text/plain": [
       "1-element Vector{Float32}:\n",
       " 6.1443267"
      ]
     },
     "execution_count": 718,
     "metadata": {},
     "output_type": "execute_result"
    }
   ],
   "source": [
    "q(p)"
   ]
  },
  {
   "cell_type": "code",
   "execution_count": 719,
   "id": "46fb0951-2cbb-4547-b687-be0a3e94be1e",
   "metadata": {},
   "outputs": [
    {
     "data": {
      "text/plain": [
       "1-element Vector{Float32}:\n",
       " 2.1361282"
      ]
     },
     "execution_count": 719,
     "metadata": {},
     "output_type": "execute_result"
    }
   ],
   "source": [
    "q(1 .- p)"
   ]
  },
  {
   "cell_type": "code",
   "execution_count": 720,
   "id": "41fa4b2f-45dd-4a1b-bc33-3ceda0e18da0",
   "metadata": {},
   "outputs": [],
   "source": [
    "using Plots"
   ]
  },
  {
   "cell_type": "code",
   "execution_count": 730,
   "id": "6e4ca29d-eec4-4190-a3a1-dbd9143b341f",
   "metadata": {},
   "outputs": [
    {
     "data": {
      "image/png": "[encoded data removed]",
      "image/svg+xml": [
       "<?xml version=\"1.0\" encoding=\"utf-8\"?>\n",
       "<svg xmlns=\"http://www.w3.org/2000/svg\" xmlns:xlink=\"http://www.w3.org/1999/xlink\" width=\"600\" height=\"400\" viewBox=\"0 0 2400 1600\">\n",
       "<defs>\n",
       "  <clipPath id=\"clip580\">\n",
       "    <rect x=\"0\" y=\"0\" width=\"2400\" height=\"1600\"/>\n",
       "  </clipPath>\n",
       "</defs>\n",
       "<path clip-path=\"url(#clip580)\" d=\"M0 1600 L2400 1600 L2400 0 L0 0  Z\" fill=\"#ffffff\" fill-rule=\"evenodd\" fill-opacity=\"1\"/>\n",
       "<defs>\n",
       "  <clipPath id=\"clip581\">\n",
       "    <rect x=\"480\" y=\"0\" width=\"1681\" height=\"1600\"/>\n",
       "  </clipPath>\n",
       "</defs>\n",
       "<path clip-path=\"url(#clip580)\" d=\"M193.936 1486.45 L2352.76 1486.45 L2352.76 47.2441 L193.936 47.2441  Z\" fill=\"#ffffff\" fill-rule=\"evenodd\" fill-opacity=\"1\"/>\n",
       "<defs>\n",
       "  <clipPath id=\"clip582\">\n",
       "    <rect x=\"193\" y=\"47\" width=\"2160\" height=\"1440\"/>\n",
       "  </clipPath>\n",
       "</defs>\n",
       "<polyline clip-path=\"url(#clip582)\" style=\"stroke:#000000; stroke-linecap:round; stroke-linejoin:round; stroke-width:2; stroke-opacity:0.1; fill:none\" points=\"255.035,1486.45 255.035,47.2441 \"/>\n",
       "<polyline clip-path=\"url(#clip582)\" style=\"stroke:#000000; stroke-linecap:round; stroke-linejoin:round; stroke-width:2; stroke-opacity:0.1; fill:none\" points=\"662.359,1486.45 662.359,47.2441 \"/>\n",
       "<polyline clip-path=\"url(#clip582)\" style=\"stroke:#000000; stroke-linecap:round; stroke-linejoin:round; stroke-width:2; stroke-opacity:0.1; fill:none\" points=\"1069.68,1486.45 1069.68,47.2441 \"/>\n",
       "<polyline clip-path=\"url(#clip582)\" style=\"stroke:#000000; stroke-linecap:round; stroke-linejoin:round; stroke-width:2; stroke-opacity:0.1; fill:none\" points=\"1477.01,1486.45 1477.01,47.2441 \"/>\n",
       "<polyline clip-path=\"url(#clip582)\" style=\"stroke:#000000; stroke-linecap:round; stroke-linejoin:round; stroke-width:2; stroke-opacity:0.1; fill:none\" points=\"1884.33,1486.45 1884.33,47.2441 \"/>\n",
       "<polyline clip-path=\"url(#clip582)\" style=\"stroke:#000000; stroke-linecap:round; stroke-linejoin:round; stroke-width:2; stroke-opacity:0.1; fill:none\" points=\"2291.66,1486.45 2291.66,47.2441 \"/>\n",
       "<polyline clip-path=\"url(#clip580)\" style=\"stroke:#000000; stroke-linecap:round; stroke-linejoin:round; stroke-width:4; stroke-opacity:1; fill:none\" points=\"193.936,1486.45 2352.76,1486.45 \"/>\n",
       "<polyline clip-path=\"url(#clip580)\" style=\"stroke:#000000; stroke-linecap:round; stroke-linejoin:round; stroke-width:4; stroke-opacity:1; fill:none\" points=\"255.035,1486.45 255.035,1467.55 \"/>\n",
       "<polyline clip-path=\"url(#clip580)\" style=\"stroke:#000000; stroke-linecap:round; stroke-linejoin:round; stroke-width:4; stroke-opacity:1; fill:none\" points=\"662.359,1486.45 662.359,1467.55 \"/>\n",
       "<polyline clip-path=\"url(#clip580)\" style=\"stroke:#000000; stroke-linecap:round; stroke-linejoin:round; stroke-width:4; stroke-opacity:1; fill:none\" points=\"1069.68,1486.45 1069.68,1467.55 \"/>\n",
       "<polyline clip-path=\"url(#clip580)\" style=\"stroke:#000000; stroke-linecap:round; stroke-linejoin:round; stroke-width:4; stroke-opacity:1; fill:none\" points=\"1477.01,1486.45 1477.01,1467.55 \"/>\n",
       "<polyline clip-path=\"url(#clip580)\" style=\"stroke:#000000; stroke-linecap:round; stroke-linejoin:round; stroke-width:4; stroke-opacity:1; fill:none\" points=\"1884.33,1486.45 1884.33,1467.55 \"/>\n",
       "<polyline clip-path=\"url(#clip580)\" style=\"stroke:#000000; stroke-linecap:round; stroke-linejoin:round; stroke-width:4; stroke-opacity:1; fill:none\" points=\"2291.66,1486.45 2291.66,1467.55 \"/>\n",
       "<path clip-path=\"url(#clip580)\" d=\"M255.035 1517.37 Q251.424 1517.37 249.595 1520.93 Q247.789 1524.47 247.789 1531.6 Q247.789 1538.71 249.595 1542.27 Q251.424 1545.82 255.035 1545.82 Q258.669 1545.82 260.474 1542.27 Q262.303 1538.71 262.303 1531.6 Q262.303 1524.47 260.474 1520.93 Q258.669 1517.37 255.035 1517.37 M255.035 1513.66 Q260.845 1513.66 263.9 1518.27 Q266.979 1522.85 266.979 1531.6 Q266.979 1540.33 263.9 1544.94 Q260.845 1549.52 255.035 1549.52 Q249.225 1549.52 246.146 1544.94 Q243.09 1540.33 243.09 1531.6 Q243.09 1522.85 246.146 1518.27 Q249.225 1513.66 255.035 1513.66 Z\" fill=\"#000000\" fill-rule=\"nonzero\" fill-opacity=\"1\" /><path clip-path=\"url(#clip580)\" d=\"M652.741 1544.91 L660.38 1544.91 L660.38 1518.55 L652.07 1520.21 L652.07 1515.95 L660.334 1514.29 L665.01 1514.29 L665.01 1544.91 L672.648 1544.91 L672.648 1548.85 L652.741 1548.85 L652.741 1544.91 Z\" fill=\"#000000\" fill-rule=\"nonzero\" fill-opacity=\"1\" /><path clip-path=\"url(#clip580)\" d=\"M1064.34 1544.91 L1080.66 1544.91 L1080.66 1548.85 L1058.71 1548.85 L1058.71 1544.91 Q1061.37 1542.16 1065.96 1537.53 Q1070.56 1532.88 1071.74 1531.53 Q1073.99 1529.01 1074.87 1527.27 Q1075.77 1525.51 1075.77 1523.82 Q1075.77 1521.07 1073.83 1519.33 Q1071.91 1517.6 1068.8 1517.6 Q1066.61 1517.6 1064.15 1518.36 Q1061.72 1519.13 1058.94 1520.68 L1058.94 1515.95 Q1061.77 1514.82 1064.22 1514.24 Q1066.67 1513.66 1068.71 1513.66 Q1074.08 1513.66 1077.28 1516.35 Q1080.47 1519.03 1080.47 1523.52 Q1080.47 1525.65 1079.66 1527.57 Q1078.87 1529.47 1076.77 1532.07 Q1076.19 1532.74 1073.09 1535.95 Q1069.98 1539.15 1064.34 1544.91 Z\" fill=\"#000000\" fill-rule=\"nonzero\" fill-opacity=\"1\" /><path clip-path=\"url(#clip580)\" d=\"M1481.26 1530.21 Q1484.61 1530.93 1486.49 1533.2 Q1488.39 1535.47 1488.39 1538.8 Q1488.39 1543.92 1484.87 1546.72 Q1481.35 1549.52 1474.87 1549.52 Q1472.69 1549.52 1470.38 1549.08 Q1468.08 1548.66 1465.63 1547.81 L1465.63 1543.29 Q1467.58 1544.43 1469.89 1545.01 Q1472.2 1545.58 1474.73 1545.58 Q1479.13 1545.58 1481.42 1543.85 Q1483.73 1542.11 1483.73 1538.8 Q1483.73 1535.75 1481.58 1534.03 Q1479.45 1532.3 1475.63 1532.3 L1471.6 1532.3 L1471.6 1528.45 L1475.82 1528.45 Q1479.27 1528.45 1481.09 1527.09 Q1482.92 1525.7 1482.92 1523.11 Q1482.92 1520.45 1481.02 1519.03 Q1479.15 1517.6 1475.63 1517.6 Q1473.71 1517.6 1471.51 1518.01 Q1469.31 1518.43 1466.67 1519.31 L1466.67 1515.14 Q1469.33 1514.4 1471.65 1514.03 Q1473.99 1513.66 1476.05 1513.66 Q1481.37 1513.66 1484.47 1516.09 Q1487.58 1518.5 1487.58 1522.62 Q1487.58 1525.49 1485.93 1527.48 Q1484.29 1529.45 1481.26 1530.21 Z\" fill=\"#000000\" fill-rule=\"nonzero\" fill-opacity=\"1\" /><path clip-path=\"url(#clip580)\" d=\"M1887.34 1518.36 L1875.54 1536.81 L1887.34 1536.81 L1887.34 1518.36 M1886.12 1514.29 L1891.99 1514.29 L1891.99 1536.81 L1896.93 1536.81 L1896.93 1540.7 L1891.99 1540.7 L1891.99 1548.85 L1887.34 1548.85 L1887.34 1540.7 L1871.74 1540.7 L1871.74 1536.19 L1886.12 1514.29 Z\" fill=\"#000000\" fill-rule=\"nonzero\" fill-opacity=\"1\" /><path clip-path=\"url(#clip580)\" d=\"M2281.94 1514.29 L2300.29 1514.29 L2300.29 1518.22 L2286.22 1518.22 L2286.22 1526.7 Q2287.24 1526.35 2288.25 1526.19 Q2289.27 1526 2290.29 1526 Q2296.08 1526 2299.46 1529.17 Q2302.84 1532.34 2302.84 1537.76 Q2302.84 1543.34 2299.37 1546.44 Q2295.89 1549.52 2289.57 1549.52 Q2287.4 1549.52 2285.13 1549.15 Q2282.88 1548.78 2280.48 1548.04 L2280.48 1543.34 Q2282.56 1544.47 2284.78 1545.03 Q2287 1545.58 2289.48 1545.58 Q2293.49 1545.58 2295.82 1543.48 Q2298.16 1541.37 2298.16 1537.76 Q2298.16 1534.15 2295.82 1532.04 Q2293.49 1529.94 2289.48 1529.94 Q2287.61 1529.94 2285.73 1530.35 Q2283.88 1530.77 2281.94 1531.65 L2281.94 1514.29 Z\" fill=\"#000000\" fill-rule=\"nonzero\" fill-opacity=\"1\" /><polyline clip-path=\"url(#clip582)\" style=\"stroke:#000000; stroke-linecap:round; stroke-linejoin:round; stroke-width:2; stroke-opacity:0.1; fill:none\" points=\"193.936,1486.45 2352.76,1486.45 \"/>\n",
       "<polyline clip-path=\"url(#clip582)\" style=\"stroke:#000000; stroke-linecap:round; stroke-linejoin:round; stroke-width:2; stroke-opacity:0.1; fill:none\" points=\"193.936,1198.61 2352.76,1198.61 \"/>\n",
       "<polyline clip-path=\"url(#clip582)\" style=\"stroke:#000000; stroke-linecap:round; stroke-linejoin:round; stroke-width:2; stroke-opacity:0.1; fill:none\" points=\"193.936,910.766 2352.76,910.766 \"/>\n",
       "<polyline clip-path=\"url(#clip582)\" style=\"stroke:#000000; stroke-linecap:round; stroke-linejoin:round; stroke-width:2; stroke-opacity:0.1; fill:none\" points=\"193.936,622.926 2352.76,622.926 \"/>\n",
       "<polyline clip-path=\"url(#clip582)\" style=\"stroke:#000000; stroke-linecap:round; stroke-linejoin:round; stroke-width:2; stroke-opacity:0.1; fill:none\" points=\"193.936,335.085 2352.76,335.085 \"/>\n",
       "<polyline clip-path=\"url(#clip582)\" style=\"stroke:#000000; stroke-linecap:round; stroke-linejoin:round; stroke-width:2; stroke-opacity:0.1; fill:none\" points=\"193.936,47.2441 2352.76,47.2441 \"/>\n",
       "<polyline clip-path=\"url(#clip580)\" style=\"stroke:#000000; stroke-linecap:round; stroke-linejoin:round; stroke-width:4; stroke-opacity:1; fill:none\" points=\"193.936,1486.45 193.936,47.2441 \"/>\n",
       "<polyline clip-path=\"url(#clip580)\" style=\"stroke:#000000; stroke-linecap:round; stroke-linejoin:round; stroke-width:4; stroke-opacity:1; fill:none\" points=\"193.936,1486.45 212.834,1486.45 \"/>\n",
       "<polyline clip-path=\"url(#clip580)\" style=\"stroke:#000000; stroke-linecap:round; stroke-linejoin:round; stroke-width:4; stroke-opacity:1; fill:none\" points=\"193.936,1198.61 212.834,1198.61 \"/>\n",
       "<polyline clip-path=\"url(#clip580)\" style=\"stroke:#000000; stroke-linecap:round; stroke-linejoin:round; stroke-width:4; stroke-opacity:1; fill:none\" points=\"193.936,910.766 212.834,910.766 \"/>\n",
       "<polyline clip-path=\"url(#clip580)\" style=\"stroke:#000000; stroke-linecap:round; stroke-linejoin:round; stroke-width:4; stroke-opacity:1; fill:none\" points=\"193.936,622.926 212.834,622.926 \"/>\n",
       "<polyline clip-path=\"url(#clip580)\" style=\"stroke:#000000; stroke-linecap:round; stroke-linejoin:round; stroke-width:4; stroke-opacity:1; fill:none\" points=\"193.936,335.085 212.834,335.085 \"/>\n",
       "<polyline clip-path=\"url(#clip580)\" style=\"stroke:#000000; stroke-linecap:round; stroke-linejoin:round; stroke-width:4; stroke-opacity:1; fill:none\" points=\"193.936,47.2441 212.834,47.2441 \"/>\n",
       "<path clip-path=\"url(#clip580)\" d=\"M50.9921 1486.9 L80.6679 1486.9 L80.6679 1490.83 L50.9921 1490.83 L50.9921 1486.9 Z\" fill=\"#000000\" fill-rule=\"nonzero\" fill-opacity=\"1\" /><path clip-path=\"url(#clip580)\" d=\"M94.7882 1499.79 L111.108 1499.79 L111.108 1503.73 L89.1632 1503.73 L89.1632 1499.79 Q91.8252 1497.04 96.4085 1492.41 Q101.015 1487.76 102.196 1486.41 Q104.441 1483.89 105.321 1482.15 Q106.223 1480.39 106.223 1478.7 Q106.223 1475.95 104.279 1474.21 Q102.358 1472.48 99.2558 1472.48 Q97.0567 1472.48 94.603 1473.24 Q92.1725 1474.01 89.3947 1475.56 L89.3947 1470.83 Q92.2188 1469.7 94.6724 1469.12 Q97.1261 1468.54 99.1632 1468.54 Q104.534 1468.54 107.728 1471.23 Q110.922 1473.91 110.922 1478.4 Q110.922 1480.53 110.112 1482.45 Q109.325 1484.35 107.219 1486.95 Q106.64 1487.62 103.538 1490.83 Q100.436 1494.03 94.7882 1499.79 Z\" fill=\"#000000\" fill-rule=\"nonzero\" fill-opacity=\"1\" /><path clip-path=\"url(#clip580)\" d=\"M120.922 1497.85 L125.807 1497.85 L125.807 1503.73 L120.922 1503.73 L120.922 1497.85 Z\" fill=\"#000000\" fill-rule=\"nonzero\" fill-opacity=\"1\" /><path clip-path=\"url(#clip580)\" d=\"M145.992 1472.25 Q142.381 1472.25 140.552 1475.81 Q138.746 1479.35 138.746 1486.48 Q138.746 1493.59 140.552 1497.15 Q142.381 1500.7 145.992 1500.7 Q149.626 1500.7 151.431 1497.15 Q153.26 1493.59 153.26 1486.48 Q153.26 1479.35 151.431 1475.81 Q149.626 1472.25 145.992 1472.25 M145.992 1468.54 Q151.802 1468.54 154.857 1473.15 Q157.936 1477.73 157.936 1486.48 Q157.936 1495.21 154.857 1499.82 Q151.802 1504.4 145.992 1504.4 Q140.181 1504.4 137.103 1499.82 Q134.047 1495.21 134.047 1486.48 Q134.047 1477.73 137.103 1473.15 Q140.181 1468.54 145.992 1468.54 Z\" fill=\"#000000\" fill-rule=\"nonzero\" fill-opacity=\"1\" /><path clip-path=\"url(#clip580)\" d=\"M51.9875 1199.06 L81.6633 1199.06 L81.6633 1202.99 L51.9875 1202.99 L51.9875 1199.06 Z\" fill=\"#000000\" fill-rule=\"nonzero\" fill-opacity=\"1\" /><path clip-path=\"url(#clip580)\" d=\"M92.566 1211.95 L100.205 1211.95 L100.205 1185.59 L91.8947 1187.25 L91.8947 1182.99 L100.159 1181.33 L104.834 1181.33 L104.834 1211.95 L112.473 1211.95 L112.473 1215.89 L92.566 1215.89 L92.566 1211.95 Z\" fill=\"#000000\" fill-rule=\"nonzero\" fill-opacity=\"1\" /><path clip-path=\"url(#clip580)\" d=\"M121.918 1210.01 L126.802 1210.01 L126.802 1215.89 L121.918 1215.89 L121.918 1210.01 Z\" fill=\"#000000\" fill-rule=\"nonzero\" fill-opacity=\"1\" /><path clip-path=\"url(#clip580)\" d=\"M137.033 1181.33 L155.39 1181.33 L155.39 1185.26 L141.316 1185.26 L141.316 1193.73 Q142.334 1193.39 143.353 1193.23 Q144.371 1193.04 145.39 1193.04 Q151.177 1193.04 154.556 1196.21 Q157.936 1199.38 157.936 1204.8 Q157.936 1210.38 154.464 1213.48 Q150.992 1216.56 144.672 1216.56 Q142.496 1216.56 140.228 1216.19 Q137.982 1215.82 135.575 1215.08 L135.575 1210.38 Q137.658 1211.51 139.881 1212.07 Q142.103 1212.62 144.58 1212.62 Q148.584 1212.62 150.922 1210.52 Q153.26 1208.41 153.26 1204.8 Q153.26 1201.19 150.922 1199.08 Q148.584 1196.98 144.58 1196.98 Q142.705 1196.98 140.83 1197.39 Q138.978 1197.81 137.033 1198.69 L137.033 1181.33 Z\" fill=\"#000000\" fill-rule=\"nonzero\" fill-opacity=\"1\" /><path clip-path=\"url(#clip580)\" d=\"M50.9921 911.218 L80.6679 911.218 L80.6679 915.153 L50.9921 915.153 L50.9921 911.218 Z\" fill=\"#000000\" fill-rule=\"nonzero\" fill-opacity=\"1\" /><path clip-path=\"url(#clip580)\" d=\"M91.5706 924.111 L99.2095 924.111 L99.2095 897.746 L90.8993 899.412 L90.8993 895.153 L99.1632 893.486 L103.839 893.486 L103.839 924.111 L111.478 924.111 L111.478 928.046 L91.5706 928.046 L91.5706 924.111 Z\" fill=\"#000000\" fill-rule=\"nonzero\" fill-opacity=\"1\" /><path clip-path=\"url(#clip580)\" d=\"M120.922 922.167 L125.807 922.167 L125.807 928.046 L120.922 928.046 L120.922 922.167 Z\" fill=\"#000000\" fill-rule=\"nonzero\" fill-opacity=\"1\" /><path clip-path=\"url(#clip580)\" d=\"M145.992 896.565 Q142.381 896.565 140.552 900.13 Q138.746 903.671 138.746 910.801 Q138.746 917.908 140.552 921.472 Q142.381 925.014 145.992 925.014 Q149.626 925.014 151.431 921.472 Q153.26 917.908 153.26 910.801 Q153.26 903.671 151.431 900.13 Q149.626 896.565 145.992 896.565 M145.992 892.861 Q151.802 892.861 154.857 897.468 Q157.936 902.051 157.936 910.801 Q157.936 919.528 154.857 924.134 Q151.802 928.718 145.992 928.718 Q140.181 928.718 137.103 924.134 Q134.047 919.528 134.047 910.801 Q134.047 902.051 137.103 897.468 Q140.181 892.861 145.992 892.861 Z\" fill=\"#000000\" fill-rule=\"nonzero\" fill-opacity=\"1\" /><path clip-path=\"url(#clip580)\" d=\"M51.9875 623.377 L81.6633 623.377 L81.6633 627.312 L51.9875 627.312 L51.9875 623.377 Z\" fill=\"#000000\" fill-rule=\"nonzero\" fill-opacity=\"1\" /><path clip-path=\"url(#clip580)\" d=\"M101.756 608.724 Q98.1447 608.724 96.316 612.289 Q94.5104 615.831 94.5104 622.96 Q94.5104 630.067 96.316 633.632 Q98.1447 637.173 101.756 637.173 Q105.39 637.173 107.196 633.632 Q109.024 630.067 109.024 622.96 Q109.024 615.831 107.196 612.289 Q105.39 608.724 101.756 608.724 M101.756 605.021 Q107.566 605.021 110.621 609.627 Q113.7 614.21 113.7 622.96 Q113.7 631.687 110.621 636.294 Q107.566 640.877 101.756 640.877 Q95.9456 640.877 92.8669 636.294 Q89.8114 631.687 89.8114 622.96 Q89.8114 614.21 92.8669 609.627 Q95.9456 605.021 101.756 605.021 Z\" fill=\"#000000\" fill-rule=\"nonzero\" fill-opacity=\"1\" /><path clip-path=\"url(#clip580)\" d=\"M121.918 634.326 L126.802 634.326 L126.802 640.206 L121.918 640.206 L121.918 634.326 Z\" fill=\"#000000\" fill-rule=\"nonzero\" fill-opacity=\"1\" /><path clip-path=\"url(#clip580)\" d=\"M137.033 605.646 L155.39 605.646 L155.39 609.581 L141.316 609.581 L141.316 618.053 Q142.334 617.706 143.353 617.544 Q144.371 617.359 145.39 617.359 Q151.177 617.359 154.556 620.53 Q157.936 623.701 157.936 629.118 Q157.936 634.696 154.464 637.798 Q150.992 640.877 144.672 640.877 Q142.496 640.877 140.228 640.507 Q137.982 640.136 135.575 639.395 L135.575 634.696 Q137.658 635.831 139.881 636.386 Q142.103 636.942 144.58 636.942 Q148.584 636.942 150.922 634.835 Q153.26 632.729 153.26 629.118 Q153.26 625.507 150.922 623.4 Q148.584 621.294 144.58 621.294 Q142.705 621.294 140.83 621.71 Q138.978 622.127 137.033 623.007 L137.033 605.646 Z\" fill=\"#000000\" fill-rule=\"nonzero\" fill-opacity=\"1\" /><path clip-path=\"url(#clip580)\" d=\"M100.76 320.884 Q97.1493 320.884 95.3206 324.448 Q93.515 327.99 93.515 335.12 Q93.515 342.226 95.3206 345.791 Q97.1493 349.332 100.76 349.332 Q104.395 349.332 106.2 345.791 Q108.029 342.226 108.029 335.12 Q108.029 327.99 106.2 324.448 Q104.395 320.884 100.76 320.884 M100.76 317.18 Q106.571 317.18 109.626 321.786 Q112.705 326.37 112.705 335.12 Q112.705 343.846 109.626 348.453 Q106.571 353.036 100.76 353.036 Q94.9502 353.036 91.8715 348.453 Q88.816 343.846 88.816 335.12 Q88.816 326.37 91.8715 321.786 Q94.9502 317.18 100.76 317.18 Z\" fill=\"#000000\" fill-rule=\"nonzero\" fill-opacity=\"1\" /><path clip-path=\"url(#clip580)\" d=\"M120.922 346.485 L125.807 346.485 L125.807 352.365 L120.922 352.365 L120.922 346.485 Z\" fill=\"#000000\" fill-rule=\"nonzero\" fill-opacity=\"1\" /><path clip-path=\"url(#clip580)\" d=\"M145.992 320.884 Q142.381 320.884 140.552 324.448 Q138.746 327.99 138.746 335.12 Q138.746 342.226 140.552 345.791 Q142.381 349.332 145.992 349.332 Q149.626 349.332 151.431 345.791 Q153.26 342.226 153.26 335.12 Q153.26 327.99 151.431 324.448 Q149.626 320.884 145.992 320.884 M145.992 317.18 Q151.802 317.18 154.857 321.786 Q157.936 326.37 157.936 335.12 Q157.936 343.846 154.857 348.453 Q151.802 353.036 145.992 353.036 Q140.181 353.036 137.103 348.453 Q134.047 343.846 134.047 335.12 Q134.047 326.37 137.103 321.786 Q140.181 317.18 145.992 317.18 Z\" fill=\"#000000\" fill-rule=\"nonzero\" fill-opacity=\"1\" /><path clip-path=\"url(#clip580)\" d=\"M101.756 33.0428 Q98.1447 33.0428 96.316 36.6076 Q94.5104 40.1492 94.5104 47.2788 Q94.5104 54.3853 96.316 57.9501 Q98.1447 61.4917 101.756 61.4917 Q105.39 61.4917 107.196 57.9501 Q109.024 54.3853 109.024 47.2788 Q109.024 40.1492 107.196 36.6076 Q105.39 33.0428 101.756 33.0428 M101.756 29.3391 Q107.566 29.3391 110.621 33.9456 Q113.7 38.5289 113.7 47.2788 Q113.7 56.0056 110.621 60.6121 Q107.566 65.1954 101.756 65.1954 Q95.9456 65.1954 92.8669 60.6121 Q89.8114 56.0056 89.8114 47.2788 Q89.8114 38.5289 92.8669 33.9456 Q95.9456 29.3391 101.756 29.3391 Z\" fill=\"#000000\" fill-rule=\"nonzero\" fill-opacity=\"1\" /><path clip-path=\"url(#clip580)\" d=\"M121.918 58.6445 L126.802 58.6445 L126.802 64.5241 L121.918 64.5241 L121.918 58.6445 Z\" fill=\"#000000\" fill-rule=\"nonzero\" fill-opacity=\"1\" /><path clip-path=\"url(#clip580)\" d=\"M137.033 29.9641 L155.39 29.9641 L155.39 33.8993 L141.316 33.8993 L141.316 42.3714 Q142.334 42.0242 143.353 41.8622 Q144.371 41.677 145.39 41.677 Q151.177 41.677 154.556 44.8483 Q157.936 48.0196 157.936 53.4362 Q157.936 59.0149 154.464 62.1167 Q150.992 65.1954 144.672 65.1954 Q142.496 65.1954 140.228 64.825 Q137.982 64.4547 135.575 63.7139 L135.575 59.0149 Q137.658 60.1491 139.881 60.7047 Q142.103 61.2602 144.58 61.2602 Q148.584 61.2602 150.922 59.1538 Q153.26 57.0473 153.26 53.4362 Q153.26 49.8251 150.922 47.7186 Q148.584 45.6122 144.58 45.6122 Q142.705 45.6122 140.83 46.0288 Q138.978 46.4455 137.033 47.3251 L137.033 29.9641 Z\" fill=\"#000000\" fill-rule=\"nonzero\" fill-opacity=\"1\" /><polyline clip-path=\"url(#clip582)\" style=\"stroke:#009af9; stroke-linecap:round; stroke-linejoin:round; stroke-width:4; stroke-opacity:1; fill:none\" points=\"255.138,1.87362e+07 255.242,4.1943e+06 255.345,4.1943e+06 255.449,3.89979e+06 255.553,3.01888e+06 255.656,2.447e+06 255.76,2.04763e+06 255.863,1.75393e+06 255.967,1.52947e+06 256.071,1.3527e+06 256.174,1.21015e+06 256.278,1.09292e+06 256.381,994934 256.485,911908 256.589,840725 256.692,779070 256.796,725190 256.899,677732 257.003,635638 257.106,598067 257.314,533922 257.521,481249 257.728,437287 257.935,400085 258.142,368229 258.35,340671 258.557,316615 258.764,295449 258.971,276696 259.178,259976 259.593,231469 260.007,208104 260.421,188638 260.836,172192 261.25,158132 261.664,145987 262.079,135401 262.493,126100 262.908,117871 263.322,110543 264.151,98072 264.979,87875.6 265.808,79399.5 266.637,72254.3 267.465,66158.2 268.294,60902.9 272.126,43842.5 275.957,33608.3 279.788,26865.4 283.62,22128.9 291.282,15985.3 298.945,12230.1 306.608,9731.41 314.27,7967.54 321.933,6666.9 329.596,5675.13 344.921,4277.02 360.247,3351.96 375.572,2703.85 390.898,2230.09 409.318,1810.6 427.737,1500.1 446.157,1263.48 464.577,1078.9 495.725,847.631 526.872,683.928 594.542,460.866 656.928,342.917 723.812,264.796 801.304,209.098 870.17,177.942 930.558,159.483 996.398,145.662 1062.63,136.351 1135.86,129.767 1205.53,126.036 1277.98,124.003 1338.96,123.352 1413.41,123.513 1481.62,124.34 1544.61,125.528 1608.42,127.041 1679.93,129.008 1744.73,130.972 1818.92,133.368 1887.62,135.681 1955.34,138.018 2021.1,140.317 2088.51,142.687 2162.36,145.282 2269.65,149.02 2291.66,149.78 \"/>\n",
       "<path clip-path=\"url(#clip580)\" d=\"M2012.48 1438.47 L2280.8 1438.47 L2280.8 1334.79 L2012.48 1334.79  Z\" fill=\"#ffffff\" fill-rule=\"evenodd\" fill-opacity=\"1\"/>\n",
       "<polyline clip-path=\"url(#clip580)\" style=\"stroke:#000000; stroke-linecap:round; stroke-linejoin:round; stroke-width:4; stroke-opacity:1; fill:none\" points=\"2012.48,1438.47 2280.8,1438.47 2280.8,1334.79 2012.48,1334.79 2012.48,1438.47 \"/>\n",
       "<polyline clip-path=\"url(#clip580)\" style=\"stroke:#009af9; stroke-linecap:round; stroke-linejoin:round; stroke-width:4; stroke-opacity:1; fill:none\" points=\"2036.47,1386.63 2180.39,1386.63 \"/>\n",
       "<path clip-path=\"url(#clip580)\" d=\"M2218.22 1406.32 Q2216.42 1410.95 2214.7 1412.36 Q2212.99 1413.78 2210.12 1413.78 L2206.72 1413.78 L2206.72 1410.21 L2209.22 1410.21 Q2210.98 1410.21 2211.95 1409.38 Q2212.92 1408.54 2214.1 1405.44 L2214.86 1403.5 L2204.38 1377.99 L2208.89 1377.99 L2216.99 1398.27 L2225.1 1377.99 L2229.61 1377.99 L2218.22 1406.32 Z\" fill=\"#000000\" fill-rule=\"nonzero\" fill-opacity=\"1\" /><path clip-path=\"url(#clip580)\" d=\"M2236.9 1399.98 L2244.54 1399.98 L2244.54 1373.61 L2236.23 1375.28 L2236.23 1371.02 L2244.49 1369.35 L2249.17 1369.35 L2249.17 1399.98 L2256.81 1399.98 L2256.81 1403.91 L2236.9 1403.91 L2236.9 1399.98 Z\" fill=\"#000000\" fill-rule=\"nonzero\" fill-opacity=\"1\" /></svg>\n"
      ],
      "text/html": [
       "<?xml version=\"1.0\" encoding=\"utf-8\"?>\n",
       "<svg xmlns=\"http://www.w3.org/2000/svg\" xmlns:xlink=\"http://www.w3.org/1999/xlink\" width=\"600\" height=\"400\" viewBox=\"0 0 2400 1600\">\n",
       "<defs>\n",
       "  <clipPath id=\"clip630\">\n",
       "    <rect x=\"0\" y=\"0\" width=\"2400\" height=\"1600\"/>\n",
       "  </clipPath>\n",
       "</defs>\n",
       "<path clip-path=\"url(#clip630)\" d=\"M0 1600 L2400 1600 L2400 0 L0 0  Z\" fill=\"#ffffff\" fill-rule=\"evenodd\" fill-opacity=\"1\"/>\n",
       "<defs>\n",
       "  <clipPath id=\"clip631\">\n",
       "    <rect x=\"480\" y=\"0\" width=\"1681\" height=\"1600\"/>\n",
       "  </clipPath>\n",
       "</defs>\n",
       "<path clip-path=\"url(#clip630)\" d=\"M193.936 1486.45 L2352.76 1486.45 L2352.76 47.2441 L193.936 47.2441  Z\" fill=\"#ffffff\" fill-rule=\"evenodd\" fill-opacity=\"1\"/>\n",
       "<defs>\n",
       "  <clipPath id=\"clip632\">\n",
       "    <rect x=\"193\" y=\"47\" width=\"2160\" height=\"1440\"/>\n",
       "  </clipPath>\n",
       "</defs>\n",
       "<polyline clip-path=\"url(#clip632)\" style=\"stroke:#000000; stroke-linecap:round; stroke-linejoin:round; stroke-width:2; stroke-opacity:0.1; fill:none\" points=\"255.035,1486.45 255.035,47.2441 \"/>\n",
       "<polyline clip-path=\"url(#clip632)\" style=\"stroke:#000000; stroke-linecap:round; stroke-linejoin:round; stroke-width:2; stroke-opacity:0.1; fill:none\" points=\"662.359,1486.45 662.359,47.2441 \"/>\n",
       "<polyline clip-path=\"url(#clip632)\" style=\"stroke:#000000; stroke-linecap:round; stroke-linejoin:round; stroke-width:2; stroke-opacity:0.1; fill:none\" points=\"1069.68,1486.45 1069.68,47.2441 \"/>\n",
       "<polyline clip-path=\"url(#clip632)\" style=\"stroke:#000000; stroke-linecap:round; stroke-linejoin:round; stroke-width:2; stroke-opacity:0.1; fill:none\" points=\"1477.01,1486.45 1477.01,47.2441 \"/>\n",
       "<polyline clip-path=\"url(#clip632)\" style=\"stroke:#000000; stroke-linecap:round; stroke-linejoin:round; stroke-width:2; stroke-opacity:0.1; fill:none\" points=\"1884.33,1486.45 1884.33,47.2441 \"/>\n",
       "<polyline clip-path=\"url(#clip632)\" style=\"stroke:#000000; stroke-linecap:round; stroke-linejoin:round; stroke-width:2; stroke-opacity:0.1; fill:none\" points=\"2291.66,1486.45 2291.66,47.2441 \"/>\n",
       "<polyline clip-path=\"url(#clip630)\" style=\"stroke:#000000; stroke-linecap:round; stroke-linejoin:round; stroke-width:4; stroke-opacity:1; fill:none\" points=\"193.936,1486.45 2352.76,1486.45 \"/>\n",
       "<polyline clip-path=\"url(#clip630)\" style=\"stroke:#000000; stroke-linecap:round; stroke-linejoin:round; stroke-width:4; stroke-opacity:1; fill:none\" points=\"255.035,1486.45 255.035,1467.55 \"/>\n",
       "<polyline clip-path=\"url(#clip630)\" style=\"stroke:#000000; stroke-linecap:round; stroke-linejoin:round; stroke-width:4; stroke-opacity:1; fill:none\" points=\"662.359,1486.45 662.359,1467.55 \"/>\n",
       "<polyline clip-path=\"url(#clip630)\" style=\"stroke:#000000; stroke-linecap:round; stroke-linejoin:round; stroke-width:4; stroke-opacity:1; fill:none\" points=\"1069.68,1486.45 1069.68,1467.55 \"/>\n",
       "<polyline clip-path=\"url(#clip630)\" style=\"stroke:#000000; stroke-linecap:round; stroke-linejoin:round; stroke-width:4; stroke-opacity:1; fill:none\" points=\"1477.01,1486.45 1477.01,1467.55 \"/>\n",
       "<polyline clip-path=\"url(#clip630)\" style=\"stroke:#000000; stroke-linecap:round; stroke-linejoin:round; stroke-width:4; stroke-opacity:1; fill:none\" points=\"1884.33,1486.45 1884.33,1467.55 \"/>\n",
       "<polyline clip-path=\"url(#clip630)\" style=\"stroke:#000000; stroke-linecap:round; stroke-linejoin:round; stroke-width:4; stroke-opacity:1; fill:none\" points=\"2291.66,1486.45 2291.66,1467.55 \"/>\n",
       "<path clip-path=\"url(#clip630)\" d=\"M255.035 1517.37 Q251.424 1517.37 249.595 1520.93 Q247.789 1524.47 247.789 1531.6 Q247.789 1538.71 249.595 1542.27 Q251.424 1545.82 255.035 1545.82 Q258.669 1545.82 260.474 1542.27 Q262.303 1538.71 262.303 1531.6 Q262.303 1524.47 260.474 1520.93 Q258.669 1517.37 255.035 1517.37 M255.035 1513.66 Q260.845 1513.66 263.9 1518.27 Q266.979 1522.85 266.979 1531.6 Q266.979 1540.33 263.9 1544.94 Q260.845 1549.52 255.035 1549.52 Q249.225 1549.52 246.146 1544.94 Q243.09 1540.33 243.09 1531.6 Q243.09 1522.85 246.146 1518.27 Q249.225 1513.66 255.035 1513.66 Z\" fill=\"#000000\" fill-rule=\"nonzero\" fill-opacity=\"1\" /><path clip-path=\"url(#clip630)\" d=\"M652.741 1544.91 L660.38 1544.91 L660.38 1518.55 L652.07 1520.21 L652.07 1515.95 L660.334 1514.29 L665.01 1514.29 L665.01 1544.91 L672.648 1544.91 L672.648 1548.85 L652.741 1548.85 L652.741 1544.91 Z\" fill=\"#000000\" fill-rule=\"nonzero\" fill-opacity=\"1\" /><path clip-path=\"url(#clip630)\" d=\"M1064.34 1544.91 L1080.66 1544.91 L1080.66 1548.85 L1058.71 1548.85 L1058.71 1544.91 Q1061.37 1542.16 1065.96 1537.53 Q1070.56 1532.88 1071.74 1531.53 Q1073.99 1529.01 1074.87 1527.27 Q1075.77 1525.51 1075.77 1523.82 Q1075.77 1521.07 1073.83 1519.33 Q1071.91 1517.6 1068.8 1517.6 Q1066.61 1517.6 1064.15 1518.36 Q1061.72 1519.13 1058.94 1520.68 L1058.94 1515.95 Q1061.77 1514.82 1064.22 1514.24 Q1066.67 1513.66 1068.71 1513.66 Q1074.08 1513.66 1077.28 1516.35 Q1080.47 1519.03 1080.47 1523.52 Q1080.47 1525.65 1079.66 1527.57 Q1078.87 1529.47 1076.77 1532.07 Q1076.19 1532.74 1073.09 1535.95 Q1069.98 1539.15 1064.34 1544.91 Z\" fill=\"#000000\" fill-rule=\"nonzero\" fill-opacity=\"1\" /><path clip-path=\"url(#clip630)\" d=\"M1481.26 1530.21 Q1484.61 1530.93 1486.49 1533.2 Q1488.39 1535.47 1488.39 1538.8 Q1488.39 1543.92 1484.87 1546.72 Q1481.35 1549.52 1474.87 1549.52 Q1472.69 1549.52 1470.38 1549.08 Q1468.08 1548.66 1465.63 1547.81 L1465.63 1543.29 Q1467.58 1544.43 1469.89 1545.01 Q1472.2 1545.58 1474.73 1545.58 Q1479.13 1545.58 1481.42 1543.85 Q1483.73 1542.11 1483.73 1538.8 Q1483.73 1535.75 1481.58 1534.03 Q1479.45 1532.3 1475.63 1532.3 L1471.6 1532.3 L1471.6 1528.45 L1475.82 1528.45 Q1479.27 1528.45 1481.09 1527.09 Q1482.92 1525.7 1482.92 1523.11 Q1482.92 1520.45 1481.02 1519.03 Q1479.15 1517.6 1475.63 1517.6 Q1473.71 1517.6 1471.51 1518.01 Q1469.31 1518.43 1466.67 1519.31 L1466.67 1515.14 Q1469.33 1514.4 1471.65 1514.03 Q1473.99 1513.66 1476.05 1513.66 Q1481.37 1513.66 1484.47 1516.09 Q1487.58 1518.5 1487.58 1522.62 Q1487.58 1525.49 1485.93 1527.48 Q1484.29 1529.45 1481.26 1530.21 Z\" fill=\"#000000\" fill-rule=\"nonzero\" fill-opacity=\"1\" /><path clip-path=\"url(#clip630)\" d=\"M1887.34 1518.36 L1875.54 1536.81 L1887.34 1536.81 L1887.34 1518.36 M1886.12 1514.29 L1891.99 1514.29 L1891.99 1536.81 L1896.93 1536.81 L1896.93 1540.7 L1891.99 1540.7 L1891.99 1548.85 L1887.34 1548.85 L1887.34 1540.7 L1871.74 1540.7 L1871.74 1536.19 L1886.12 1514.29 Z\" fill=\"#000000\" fill-rule=\"nonzero\" fill-opacity=\"1\" /><path clip-path=\"url(#clip630)\" d=\"M2281.94 1514.29 L2300.29 1514.29 L2300.29 1518.22 L2286.22 1518.22 L2286.22 1526.7 Q2287.24 1526.35 2288.25 1526.19 Q2289.27 1526 2290.29 1526 Q2296.08 1526 2299.46 1529.17 Q2302.84 1532.34 2302.84 1537.76 Q2302.84 1543.34 2299.37 1546.44 Q2295.89 1549.52 2289.57 1549.52 Q2287.4 1549.52 2285.13 1549.15 Q2282.88 1548.78 2280.48 1548.04 L2280.48 1543.34 Q2282.56 1544.47 2284.78 1545.03 Q2287 1545.58 2289.48 1545.58 Q2293.49 1545.58 2295.82 1543.48 Q2298.16 1541.37 2298.16 1537.76 Q2298.16 1534.15 2295.82 1532.04 Q2293.49 1529.94 2289.48 1529.94 Q2287.61 1529.94 2285.73 1530.35 Q2283.88 1530.77 2281.94 1531.65 L2281.94 1514.29 Z\" fill=\"#000000\" fill-rule=\"nonzero\" fill-opacity=\"1\" /><polyline clip-path=\"url(#clip632)\" style=\"stroke:#000000; stroke-linecap:round; stroke-linejoin:round; stroke-width:2; stroke-opacity:0.1; fill:none\" points=\"193.936,1486.45 2352.76,1486.45 \"/>\n",
       "<polyline clip-path=\"url(#clip632)\" style=\"stroke:#000000; stroke-linecap:round; stroke-linejoin:round; stroke-width:2; stroke-opacity:0.1; fill:none\" points=\"193.936,1198.61 2352.76,1198.61 \"/>\n",
       "<polyline clip-path=\"url(#clip632)\" style=\"stroke:#000000; stroke-linecap:round; stroke-linejoin:round; stroke-width:2; stroke-opacity:0.1; fill:none\" points=\"193.936,910.766 2352.76,910.766 \"/>\n",
       "<polyline clip-path=\"url(#clip632)\" style=\"stroke:#000000; stroke-linecap:round; stroke-linejoin:round; stroke-width:2; stroke-opacity:0.1; fill:none\" points=\"193.936,622.926 2352.76,622.926 \"/>\n",
       "<polyline clip-path=\"url(#clip632)\" style=\"stroke:#000000; stroke-linecap:round; stroke-linejoin:round; stroke-width:2; stroke-opacity:0.1; fill:none\" points=\"193.936,335.085 2352.76,335.085 \"/>\n",
       "<polyline clip-path=\"url(#clip632)\" style=\"stroke:#000000; stroke-linecap:round; stroke-linejoin:round; stroke-width:2; stroke-opacity:0.1; fill:none\" points=\"193.936,47.2441 2352.76,47.2441 \"/>\n",
       "<polyline clip-path=\"url(#clip630)\" style=\"stroke:#000000; stroke-linecap:round; stroke-linejoin:round; stroke-width:4; stroke-opacity:1; fill:none\" points=\"193.936,1486.45 193.936,47.2441 \"/>\n",
       "<polyline clip-path=\"url(#clip630)\" style=\"stroke:#000000; stroke-linecap:round; stroke-linejoin:round; stroke-width:4; stroke-opacity:1; fill:none\" points=\"193.936,1486.45 212.834,1486.45 \"/>\n",
       "<polyline clip-path=\"url(#clip630)\" style=\"stroke:#000000; stroke-linecap:round; stroke-linejoin:round; stroke-width:4; stroke-opacity:1; fill:none\" points=\"193.936,1198.61 212.834,1198.61 \"/>\n",
       "<polyline clip-path=\"url(#clip630)\" style=\"stroke:#000000; stroke-linecap:round; stroke-linejoin:round; stroke-width:4; stroke-opacity:1; fill:none\" points=\"193.936,910.766 212.834,910.766 \"/>\n",
       "<polyline clip-path=\"url(#clip630)\" style=\"stroke:#000000; stroke-linecap:round; stroke-linejoin:round; stroke-width:4; stroke-opacity:1; fill:none\" points=\"193.936,622.926 212.834,622.926 \"/>\n",
       "<polyline clip-path=\"url(#clip630)\" style=\"stroke:#000000; stroke-linecap:round; stroke-linejoin:round; stroke-width:4; stroke-opacity:1; fill:none\" points=\"193.936,335.085 212.834,335.085 \"/>\n",
       "<polyline clip-path=\"url(#clip630)\" style=\"stroke:#000000; stroke-linecap:round; stroke-linejoin:round; stroke-width:4; stroke-opacity:1; fill:none\" points=\"193.936,47.2441 212.834,47.2441 \"/>\n",
       "<path clip-path=\"url(#clip630)\" d=\"M50.9921 1486.9 L80.6679 1486.9 L80.6679 1490.83 L50.9921 1490.83 L50.9921 1486.9 Z\" fill=\"#000000\" fill-rule=\"nonzero\" fill-opacity=\"1\" /><path clip-path=\"url(#clip630)\" d=\"M94.7882 1499.79 L111.108 1499.79 L111.108 1503.73 L89.1632 1503.73 L89.1632 1499.79 Q91.8252 1497.04 96.4085 1492.41 Q101.015 1487.76 102.196 1486.41 Q104.441 1483.89 105.321 1482.15 Q106.223 1480.39 106.223 1478.7 Q106.223 1475.95 104.279 1474.21 Q102.358 1472.48 99.2558 1472.48 Q97.0567 1472.48 94.603 1473.24 Q92.1725 1474.01 89.3947 1475.56 L89.3947 1470.83 Q92.2188 1469.7 94.6724 1469.12 Q97.1261 1468.54 99.1632 1468.54 Q104.534 1468.54 107.728 1471.23 Q110.922 1473.91 110.922 1478.4 Q110.922 1480.53 110.112 1482.45 Q109.325 1484.35 107.219 1486.95 Q106.64 1487.62 103.538 1490.83 Q100.436 1494.03 94.7882 1499.79 Z\" fill=\"#000000\" fill-rule=\"nonzero\" fill-opacity=\"1\" /><path clip-path=\"url(#clip630)\" d=\"M120.922 1497.85 L125.807 1497.85 L125.807 1503.73 L120.922 1503.73 L120.922 1497.85 Z\" fill=\"#000000\" fill-rule=\"nonzero\" fill-opacity=\"1\" /><path clip-path=\"url(#clip630)\" d=\"M145.992 1472.25 Q142.381 1472.25 140.552 1475.81 Q138.746 1479.35 138.746 1486.48 Q138.746 1493.59 140.552 1497.15 Q142.381 1500.7 145.992 1500.7 Q149.626 1500.7 151.431 1497.15 Q153.26 1493.59 153.26 1486.48 Q153.26 1479.35 151.431 1475.81 Q149.626 1472.25 145.992 1472.25 M145.992 1468.54 Q151.802 1468.54 154.857 1473.15 Q157.936 1477.73 157.936 1486.48 Q157.936 1495.21 154.857 1499.82 Q151.802 1504.4 145.992 1504.4 Q140.181 1504.4 137.103 1499.82 Q134.047 1495.21 134.047 1486.48 Q134.047 1477.73 137.103 1473.15 Q140.181 1468.54 145.992 1468.54 Z\" fill=\"#000000\" fill-rule=\"nonzero\" fill-opacity=\"1\" /><path clip-path=\"url(#clip630)\" d=\"M51.9875 1199.06 L81.6633 1199.06 L81.6633 1202.99 L51.9875 1202.99 L51.9875 1199.06 Z\" fill=\"#000000\" fill-rule=\"nonzero\" fill-opacity=\"1\" /><path clip-path=\"url(#clip630)\" d=\"M92.566 1211.95 L100.205 1211.95 L100.205 1185.59 L91.8947 1187.25 L91.8947 1182.99 L100.159 1181.33 L104.834 1181.33 L104.834 1211.95 L112.473 1211.95 L112.473 1215.89 L92.566 1215.89 L92.566 1211.95 Z\" fill=\"#000000\" fill-rule=\"nonzero\" fill-opacity=\"1\" /><path clip-path=\"url(#clip630)\" d=\"M121.918 1210.01 L126.802 1210.01 L126.802 1215.89 L121.918 1215.89 L121.918 1210.01 Z\" fill=\"#000000\" fill-rule=\"nonzero\" fill-opacity=\"1\" /><path clip-path=\"url(#clip630)\" d=\"M137.033 1181.33 L155.39 1181.33 L155.39 1185.26 L141.316 1185.26 L141.316 1193.73 Q142.334 1193.39 143.353 1193.23 Q144.371 1193.04 145.39 1193.04 Q151.177 1193.04 154.556 1196.21 Q157.936 1199.38 157.936 1204.8 Q157.936 1210.38 154.464 1213.48 Q150.992 1216.56 144.672 1216.56 Q142.496 1216.56 140.228 1216.19 Q137.982 1215.82 135.575 1215.08 L135.575 1210.38 Q137.658 1211.51 139.881 1212.07 Q142.103 1212.62 144.58 1212.62 Q148.584 1212.62 150.922 1210.52 Q153.26 1208.41 153.26 1204.8 Q153.26 1201.19 150.922 1199.08 Q148.584 1196.98 144.58 1196.98 Q142.705 1196.98 140.83 1197.39 Q138.978 1197.81 137.033 1198.69 L137.033 1181.33 Z\" fill=\"#000000\" fill-rule=\"nonzero\" fill-opacity=\"1\" /><path clip-path=\"url(#clip630)\" d=\"M50.9921 911.218 L80.6679 911.218 L80.6679 915.153 L50.9921 915.153 L50.9921 911.218 Z\" fill=\"#000000\" fill-rule=\"nonzero\" fill-opacity=\"1\" /><path clip-path=\"url(#clip630)\" d=\"M91.5706 924.111 L99.2095 924.111 L99.2095 897.746 L90.8993 899.412 L90.8993 895.153 L99.1632 893.486 L103.839 893.486 L103.839 924.111 L111.478 924.111 L111.478 928.046 L91.5706 928.046 L91.5706 924.111 Z\" fill=\"#000000\" fill-rule=\"nonzero\" fill-opacity=\"1\" /><path clip-path=\"url(#clip630)\" d=\"M120.922 922.167 L125.807 922.167 L125.807 928.046 L120.922 928.046 L120.922 922.167 Z\" fill=\"#000000\" fill-rule=\"nonzero\" fill-opacity=\"1\" /><path clip-path=\"url(#clip630)\" d=\"M145.992 896.565 Q142.381 896.565 140.552 900.13 Q138.746 903.671 138.746 910.801 Q138.746 917.908 140.552 921.472 Q142.381 925.014 145.992 925.014 Q149.626 925.014 151.431 921.472 Q153.26 917.908 153.26 910.801 Q153.26 903.671 151.431 900.13 Q149.626 896.565 145.992 896.565 M145.992 892.861 Q151.802 892.861 154.857 897.468 Q157.936 902.051 157.936 910.801 Q157.936 919.528 154.857 924.134 Q151.802 928.718 145.992 928.718 Q140.181 928.718 137.103 924.134 Q134.047 919.528 134.047 910.801 Q134.047 902.051 137.103 897.468 Q140.181 892.861 145.992 892.861 Z\" fill=\"#000000\" fill-rule=\"nonzero\" fill-opacity=\"1\" /><path clip-path=\"url(#clip630)\" d=\"M51.9875 623.377 L81.6633 623.377 L81.6633 627.312 L51.9875 627.312 L51.9875 623.377 Z\" fill=\"#000000\" fill-rule=\"nonzero\" fill-opacity=\"1\" /><path clip-path=\"url(#clip630)\" d=\"M101.756 608.724 Q98.1447 608.724 96.316 612.289 Q94.5104 615.831 94.5104 622.96 Q94.5104 630.067 96.316 633.632 Q98.1447 637.173 101.756 637.173 Q105.39 637.173 107.196 633.632 Q109.024 630.067 109.024 622.96 Q109.024 615.831 107.196 612.289 Q105.39 608.724 101.756 608.724 M101.756 605.021 Q107.566 605.021 110.621 609.627 Q113.7 614.21 113.7 622.96 Q113.7 631.687 110.621 636.294 Q107.566 640.877 101.756 640.877 Q95.9456 640.877 92.8669 636.294 Q89.8114 631.687 89.8114 622.96 Q89.8114 614.21 92.8669 609.627 Q95.9456 605.021 101.756 605.021 Z\" fill=\"#000000\" fill-rule=\"nonzero\" fill-opacity=\"1\" /><path clip-path=\"url(#clip630)\" d=\"M121.918 634.326 L126.802 634.326 L126.802 640.206 L121.918 640.206 L121.918 634.326 Z\" fill=\"#000000\" fill-rule=\"nonzero\" fill-opacity=\"1\" /><path clip-path=\"url(#clip630)\" d=\"M137.033 605.646 L155.39 605.646 L155.39 609.581 L141.316 609.581 L141.316 618.053 Q142.334 617.706 143.353 617.544 Q144.371 617.359 145.39 617.359 Q151.177 617.359 154.556 620.53 Q157.936 623.701 157.936 629.118 Q157.936 634.696 154.464 637.798 Q150.992 640.877 144.672 640.877 Q142.496 640.877 140.228 640.507 Q137.982 640.136 135.575 639.395 L135.575 634.696 Q137.658 635.831 139.881 636.386 Q142.103 636.942 144.58 636.942 Q148.584 636.942 150.922 634.835 Q153.26 632.729 153.26 629.118 Q153.26 625.507 150.922 623.4 Q148.584 621.294 144.58 621.294 Q142.705 621.294 140.83 621.71 Q138.978 622.127 137.033 623.007 L137.033 605.646 Z\" fill=\"#000000\" fill-rule=\"nonzero\" fill-opacity=\"1\" /><path clip-path=\"url(#clip630)\" d=\"M100.76 320.884 Q97.1493 320.884 95.3206 324.448 Q93.515 327.99 93.515 335.12 Q93.515 342.226 95.3206 345.791 Q97.1493 349.332 100.76 349.332 Q104.395 349.332 106.2 345.791 Q108.029 342.226 108.029 335.12 Q108.029 327.99 106.2 324.448 Q104.395 320.884 100.76 320.884 M100.76 317.18 Q106.571 317.18 109.626 321.786 Q112.705 326.37 112.705 335.12 Q112.705 343.846 109.626 348.453 Q106.571 353.036 100.76 353.036 Q94.9502 353.036 91.8715 348.453 Q88.816 343.846 88.816 335.12 Q88.816 326.37 91.8715 321.786 Q94.9502 317.18 100.76 317.18 Z\" fill=\"#000000\" fill-rule=\"nonzero\" fill-opacity=\"1\" /><path clip-path=\"url(#clip630)\" d=\"M120.922 346.485 L125.807 346.485 L125.807 352.365 L120.922 352.365 L120.922 346.485 Z\" fill=\"#000000\" fill-rule=\"nonzero\" fill-opacity=\"1\" /><path clip-path=\"url(#clip630)\" d=\"M145.992 320.884 Q142.381 320.884 140.552 324.448 Q138.746 327.99 138.746 335.12 Q138.746 342.226 140.552 345.791 Q142.381 349.332 145.992 349.332 Q149.626 349.332 151.431 345.791 Q153.26 342.226 153.26 335.12 Q153.26 327.99 151.431 324.448 Q149.626 320.884 145.992 320.884 M145.992 317.18 Q151.802 317.18 154.857 321.786 Q157.936 326.37 157.936 335.12 Q157.936 343.846 154.857 348.453 Q151.802 353.036 145.992 353.036 Q140.181 353.036 137.103 348.453 Q134.047 343.846 134.047 335.12 Q134.047 326.37 137.103 321.786 Q140.181 317.18 145.992 317.18 Z\" fill=\"#000000\" fill-rule=\"nonzero\" fill-opacity=\"1\" /><path clip-path=\"url(#clip630)\" d=\"M101.756 33.0428 Q98.1447 33.0428 96.316 36.6076 Q94.5104 40.1492 94.5104 47.2788 Q94.5104 54.3853 96.316 57.9501 Q98.1447 61.4917 101.756 61.4917 Q105.39 61.4917 107.196 57.9501 Q109.024 54.3853 109.024 47.2788 Q109.024 40.1492 107.196 36.6076 Q105.39 33.0428 101.756 33.0428 M101.756 29.3391 Q107.566 29.3391 110.621 33.9456 Q113.7 38.5289 113.7 47.2788 Q113.7 56.0056 110.621 60.6121 Q107.566 65.1954 101.756 65.1954 Q95.9456 65.1954 92.8669 60.6121 Q89.8114 56.0056 89.8114 47.2788 Q89.8114 38.5289 92.8669 33.9456 Q95.9456 29.3391 101.756 29.3391 Z\" fill=\"#000000\" fill-rule=\"nonzero\" fill-opacity=\"1\" /><path clip-path=\"url(#clip630)\" d=\"M121.918 58.6445 L126.802 58.6445 L126.802 64.5241 L121.918 64.5241 L121.918 58.6445 Z\" fill=\"#000000\" fill-rule=\"nonzero\" fill-opacity=\"1\" /><path clip-path=\"url(#clip630)\" d=\"M137.033 29.9641 L155.39 29.9641 L155.39 33.8993 L141.316 33.8993 L141.316 42.3714 Q142.334 42.0242 143.353 41.8622 Q144.371 41.677 145.39 41.677 Q151.177 41.677 154.556 44.8483 Q157.936 48.0196 157.936 53.4362 Q157.936 59.0149 154.464 62.1167 Q150.992 65.1954 144.672 65.1954 Q142.496 65.1954 140.228 64.825 Q137.982 64.4547 135.575 63.7139 L135.575 59.0149 Q137.658 60.1491 139.881 60.7047 Q142.103 61.2602 144.58 61.2602 Q148.584 61.2602 150.922 59.1538 Q153.26 57.0473 153.26 53.4362 Q153.26 49.8251 150.922 47.7186 Q148.584 45.6122 144.58 45.6122 Q142.705 45.6122 140.83 46.0288 Q138.978 46.4455 137.033 47.3251 L137.033 29.9641 Z\" fill=\"#000000\" fill-rule=\"nonzero\" fill-opacity=\"1\" /><polyline clip-path=\"url(#clip632)\" style=\"stroke:#009af9; stroke-linecap:round; stroke-linejoin:round; stroke-width:4; stroke-opacity:1; fill:none\" points=\"255.138,1.87362e+07 255.242,4.1943e+06 255.345,4.1943e+06 255.449,3.89979e+06 255.553,3.01888e+06 255.656,2.447e+06 255.76,2.04763e+06 255.863,1.75393e+06 255.967,1.52947e+06 256.071,1.3527e+06 256.174,1.21015e+06 256.278,1.09292e+06 256.381,994934 256.485,911908 256.589,840725 256.692,779070 256.796,725190 256.899,677732 257.003,635638 257.106,598067 257.314,533922 257.521,481249 257.728,437287 257.935,400085 258.142,368229 258.35,340671 258.557,316615 258.764,295449 258.971,276696 259.178,259976 259.593,231469 260.007,208104 260.421,188638 260.836,172192 261.25,158132 261.664,145987 262.079,135401 262.493,126100 262.908,117871 263.322,110543 264.151,98072 264.979,87875.6 265.808,79399.5 266.637,72254.3 267.465,66158.2 268.294,60902.9 272.126,43842.5 275.957,33608.3 279.788,26865.4 283.62,22128.9 291.282,15985.3 298.945,12230.1 306.608,9731.41 314.27,7967.54 321.933,6666.9 329.596,5675.13 344.921,4277.02 360.247,3351.96 375.572,2703.85 390.898,2230.09 409.318,1810.6 427.737,1500.1 446.157,1263.48 464.577,1078.9 495.725,847.631 526.872,683.928 594.542,460.866 656.928,342.917 723.812,264.796 801.304,209.098 870.17,177.942 930.558,159.483 996.398,145.662 1062.63,136.351 1135.86,129.767 1205.53,126.036 1277.98,124.003 1338.96,123.352 1413.41,123.513 1481.62,124.34 1544.61,125.528 1608.42,127.041 1679.93,129.008 1744.73,130.972 1818.92,133.368 1887.62,135.681 1955.34,138.018 2021.1,140.317 2088.51,142.687 2162.36,145.282 2269.65,149.02 2291.66,149.78 \"/>\n",
       "<path clip-path=\"url(#clip630)\" d=\"M2012.48 1438.47 L2280.8 1438.47 L2280.8 1334.79 L2012.48 1334.79  Z\" fill=\"#ffffff\" fill-rule=\"evenodd\" fill-opacity=\"1\"/>\n",
       "<polyline clip-path=\"url(#clip630)\" style=\"stroke:#000000; stroke-linecap:round; stroke-linejoin:round; stroke-width:4; stroke-opacity:1; fill:none\" points=\"2012.48,1438.47 2280.8,1438.47 2280.8,1334.79 2012.48,1334.79 2012.48,1438.47 \"/>\n",
       "<polyline clip-path=\"url(#clip630)\" style=\"stroke:#009af9; stroke-linecap:round; stroke-linejoin:round; stroke-width:4; stroke-opacity:1; fill:none\" points=\"2036.47,1386.63 2180.39,1386.63 \"/>\n",
       "<path clip-path=\"url(#clip630)\" d=\"M2218.22 1406.32 Q2216.42 1410.95 2214.7 1412.36 Q2212.99 1413.78 2210.12 1413.78 L2206.72 1413.78 L2206.72 1410.21 L2209.22 1410.21 Q2210.98 1410.21 2211.95 1409.38 Q2212.92 1408.54 2214.1 1405.44 L2214.86 1403.5 L2204.38 1377.99 L2208.89 1377.99 L2216.99 1398.27 L2225.1 1377.99 L2229.61 1377.99 L2218.22 1406.32 Z\" fill=\"#000000\" fill-rule=\"nonzero\" fill-opacity=\"1\" /><path clip-path=\"url(#clip630)\" d=\"M2236.9 1399.98 L2244.54 1399.98 L2244.54 1373.61 L2236.23 1375.28 L2236.23 1371.02 L2244.49 1369.35 L2249.17 1369.35 L2249.17 1399.98 L2256.81 1399.98 L2256.81 1403.91 L2236.9 1403.91 L2236.9 1399.98 Z\" fill=\"#000000\" fill-rule=\"nonzero\" fill-opacity=\"1\" /></svg>\n"
      ]
     },
     "execution_count": 730,
     "metadata": {},
     "output_type": "execute_result"
    }
   ],
   "source": [
    "plot(x -> log(x) / x)\n",
    "ylims!(-2, 0.5)"
   ]
  },
  {
   "cell_type": "code",
   "execution_count": null,
   "id": "d460693d-05ce-4eac-973e-af8931131b77",
   "metadata": {},
   "outputs": [],
   "source": []
  }
 ],
 "metadata": {
  "kernelspec": {
   "display_name": "Julia 1.9.0",
   "language": "julia",
   "name": "julia-1.9"
  },
  "language_info": {
   "file_extension": ".jl",
   "mimetype": "application/julia",
   "name": "julia",
   "version": "1.9.0"
  }
 },
 "nbformat": 4,
 "nbformat_minor": 5
}
